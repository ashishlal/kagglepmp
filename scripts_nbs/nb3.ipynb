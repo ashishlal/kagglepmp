{
 "cells": [
  {
   "cell_type": "code",
   "execution_count": null,
   "metadata": {},
   "outputs": [],
   "source": [
    "# tweak good_columns"
   ]
  },
  {
   "cell_type": "code",
   "execution_count": 1,
   "metadata": {},
   "outputs": [],
   "source": [
    "import numpy as np\n",
    "import pandas as pd\n",
    "import os\n",
    "\n",
    "from tqdm import tqdm_notebook\n",
    "from sklearn.preprocessing import StandardScaler\n",
    "from sklearn.svm import NuSVR, SVR\n",
    "from sklearn.metrics import mean_absolute_error\n",
    "pd.options.display.precision = 15\n",
    "\n",
    "import lightgbm as lgb\n",
    "import xgboost as xgb\n",
    "import time\n",
    "import datetime\n",
    "from catboost import CatBoostRegressor\n",
    "from sklearn.preprocessing import LabelEncoder\n",
    "from sklearn.model_selection import StratifiedKFold, KFold, RepeatedKFold\n",
    "from sklearn import metrics\n",
    "from sklearn import linear_model\n",
    "import gc\n",
    "import seaborn as sns\n",
    "import warnings\n",
    "warnings.filterwarnings(\"ignore\")\n",
    "\n",
    "from IPython.display import HTML\n",
    "import json\n",
    "import altair as alt\n",
    "\n",
    "import networkx as nx\n",
    "import matplotlib.pyplot as plt\n",
    "%matplotlib inline\n",
    "\n",
    "alt.renderers.enable('notebook')\n",
    "\n",
    "from artgor_utils import *"
   ]
  },
  {
   "cell_type": "code",
   "execution_count": 3,
   "metadata": {},
   "outputs": [],
   "source": [
    "file_folder = '../data'\n",
    "train = pd.read_csv(f'{file_folder}/train.csv')\n",
    "test = pd.read_csv(f'{file_folder}/test.csv')\n",
    "sub = pd.read_csv(f'{file_folder}/sample_submission.csv')\n",
    "structures = pd.read_csv(f'{file_folder}/structures.csv')"
   ]
  },
  {
   "cell_type": "code",
   "execution_count": 3,
   "metadata": {},
   "outputs": [],
   "source": [
    "def map_atom_info(df, atom_idx):\n",
    "    df = pd.merge(df, structures, how = 'left',\n",
    "                  left_on  = ['molecule_name', f'atom_index_{atom_idx}'],\n",
    "                  right_on = ['molecule_name',  'atom_index'])\n",
    "    \n",
    "    df = df.drop('atom_index', axis=1)\n",
    "    df = df.rename(columns={'atom': f'atom_{atom_idx}',\n",
    "                            'x': f'x_{atom_idx}',\n",
    "                            'y': f'y_{atom_idx}',\n",
    "                            'z': f'z_{atom_idx}'})\n",
    "    return df\n",
    "\n"
   ]
  },
  {
   "cell_type": "code",
   "execution_count": 4,
   "metadata": {},
   "outputs": [],
   "source": [
    "train = map_atom_info(train, 0)\n",
    "train = map_atom_info(train, 1)\n",
    "\n",
    "test = map_atom_info(test, 0)\n",
    "test = map_atom_info(test, 1)"
   ]
  },
  {
   "cell_type": "code",
   "execution_count": 5,
   "metadata": {},
   "outputs": [],
   "source": [
    "train_p_0 = train[['x_0', 'y_0', 'z_0']].values\n",
    "train_p_1 = train[['x_1', 'y_1', 'z_1']].values\n",
    "test_p_0 = test[['x_0', 'y_0', 'z_0']].values\n",
    "test_p_1 = test[['x_1', 'y_1', 'z_1']].values\n",
    "\n",
    "train['dist'] = np.linalg.norm(train_p_0 - train_p_1, axis=1)\n",
    "test['dist'] = np.linalg.norm(test_p_0 - test_p_1, axis=1)\n",
    "train['dist_x'] = (train['x_0'] - train['x_1']) ** 2\n",
    "test['dist_x'] = (test['x_0'] - test['x_1']) ** 2\n",
    "train['dist_y'] = (train['y_0'] - train['y_1']) ** 2\n",
    "test['dist_y'] = (test['y_0'] - test['y_1']) ** 2\n",
    "train['dist_z'] = (train['z_0'] - train['z_1']) ** 2\n",
    "test['dist_z'] = (test['z_0'] - test['z_1']) ** 2"
   ]
  },
  {
   "cell_type": "code",
   "execution_count": 6,
   "metadata": {},
   "outputs": [],
   "source": [
    "train['type_0'] = train['type'].apply(lambda x: x[0])\n",
    "test['type_0'] = test['type'].apply(lambda x: x[0])\n",
    "\n",
    "train['type_1'] = train['type'].apply(lambda x: x[1:])\n",
    "test['type_1'] = test['type'].apply(lambda x: x[1:])"
   ]
  },
  {
   "cell_type": "code",
   "execution_count": 7,
   "metadata": {},
   "outputs": [],
   "source": []
  },
  {
   "cell_type": "code",
   "execution_count": 8,
   "metadata": {},
   "outputs": [
    {
     "name": "stdout",
     "output_type": "stream",
     "text": [
      "Mem. usage decreased to 373.16 Mb (50.0% reduction)\n",
      "Mem. usage decreased to 195.94 Mb (48.8% reduction)\n"
     ]
    }
   ],
   "source": [
    "train = reduce_mem_usage(train)\n",
    "test = reduce_mem_usage(test)"
   ]
  },
  {
   "cell_type": "code",
   "execution_count": 9,
   "metadata": {},
   "outputs": [],
   "source": [
    "def create_features_full(df):\n",
    "    df['molecule_couples'] = df.groupby('molecule_name')['id'].transform('count')\n",
    "    \n",
    "    df['molecule_dist_mean'] = df.groupby('molecule_name')['dist'].transform('mean')\n",
    "    df['molecule_dist_median'] = df.groupby('molecule_name')['dist'].transform('median')\n",
    "    df['molecule_dist_min'] = df.groupby('molecule_name')['dist'].transform('min')\n",
    "    df['molecule_dist_max'] = df.groupby('molecule_name')['dist'].transform('max')\n",
    "    df['molecule_dist_std'] = df.groupby('molecule_name')['dist'].transform('std')\n",
    "    \n",
    "    \n",
    "    \n",
    "    df['atom_0_couples_count'] = df.groupby(['molecule_name', 'atom_index_0'])['id'].transform('count')\n",
    "    df['atom_1_couples_count'] = df.groupby(['molecule_name', 'atom_index_1'])['id'].transform('count')\n",
    "    df['type_0_couples_count'] = df.groupby(['molecule_name', 'type_0'])['id'].transform('count')\n",
    "    df['type_1_couples_count'] = df.groupby(['molecule_name', 'type_1'])['id'].transform('count')\n",
    "    \n",
    "    df['molecule_distx_mean'] = df.groupby('molecule_name')['dist_x'].transform('mean')\n",
    "    df['molecule_distx_median'] = df.groupby('molecule_name')['dist_x'].transform('median')\n",
    "    df['molecule_distx_min'] = df.groupby('molecule_name')['dist_x'].transform('min')\n",
    "    df['molecule_distx_max'] = df.groupby('molecule_name')['dist_x'].transform('max')\n",
    "    df['molecule_distx_std'] = df.groupby('molecule_name')['dist_x'].transform('std')\n",
    "    \n",
    "    \n",
    "    \n",
    "    df['molecule_disty_mean'] = df.groupby('molecule_name')['dist_y'].transform('mean')\n",
    "    df['molecule_disty_median'] = df.groupby('molecule_name')['dist_y'].transform('median')\n",
    "    df['molecule_disty_min'] = df.groupby('molecule_name')['dist_y'].transform('min')\n",
    "    df['molecule_disty_max'] = df.groupby('molecule_name')['dist_y'].transform('max')\n",
    "    df['molecule_disty_std'] = df.groupby('molecule_name')['dist_y'].transform('std')\n",
    "   \n",
    "   \n",
    "    \n",
    "    \n",
    "    df['molecule_distz_mean'] = df.groupby('molecule_name')['dist_z'].transform('mean')\n",
    "    df['molecule_distz_median'] = df.groupby('molecule_name')['dist_z'].transform('median')\n",
    "    df['molecule_distz_min'] = df.groupby('molecule_name')['dist_z'].transform('min')\n",
    "    df['molecule_distz_max'] = df.groupby('molecule_name')['dist_z'].transform('max')\n",
    "    df['molecule_distz_std'] = df.groupby('molecule_name')['dist_z'].transform('std')\n",
    "    \n",
    "   \n",
    "    \n",
    "    \n",
    "    num_cols = ['x_1', 'y_1', 'z_1', 'dist', 'dist_x', 'dist_y', 'dist_z']\n",
    "    cat_cols = ['atom_index_0', 'atom_index_1', 'type', 'atom_1', 'type_0']\n",
    "    aggs = ['mean', 'max', 'std', 'min', 'skew', 'median']\n",
    "    for col in cat_cols:\n",
    "        df[f'molecule_{col}_count'] = df.groupby('molecule_name')[col].transform('count')\n",
    "\n",
    "    for cat_col in tqdm_notebook(cat_cols):\n",
    "        for num_col in num_cols:\n",
    "            for agg in aggs:\n",
    "                df[f'molecule_{cat_col}_{num_col}_{agg}'] = df.groupby(['molecule_name', cat_col])[num_col].transform(agg)\n",
    "                df[f'molecule_{cat_col}_{num_col}_{agg}_diff'] = df[f'molecule_{cat_col}_{num_col}_{agg}'] - df[num_col]\n",
    "                df[f'molecule_{cat_col}_{num_col}_{agg}_div'] = df[f'molecule_{cat_col}_{num_col}_{agg}'] / df[num_col]\n",
    "                df[f'molecule_{cat_col}_{num_col}_{agg}_sum'] = df[f'molecule_{cat_col}_{num_col}_{agg}'] + df[num_col]\n",
    "                df[f'molecule_{cat_col}_{num_col}_{agg}_mult'] = df[f'molecule_{cat_col}_{num_col}_{agg}'] * df[num_col]\n",
    "\n",
    "\n",
    "    df = reduce_mem_usage(df)\n",
    "    return df"
   ]
  },
  {
   "cell_type": "code",
   "execution_count": 10,
   "metadata": {},
   "outputs": [
    {
     "data": {
      "application/vnd.jupyter.widget-view+json": {
       "model_id": "307787ad0876413d9e6b761362ff66f1",
       "version_major": 2,
       "version_minor": 0
      },
      "text/html": [
       "<p>Failed to display Jupyter Widget of type <code>HBox</code>.</p>\n",
       "<p>\n",
       "  If you're reading this message in the Jupyter Notebook or JupyterLab Notebook, it may mean\n",
       "  that the widgets JavaScript is still loading. If this message persists, it\n",
       "  likely means that the widgets JavaScript library is either not installed or\n",
       "  not enabled. See the <a href=\"https://ipywidgets.readthedocs.io/en/stable/user_install.html\">Jupyter\n",
       "  Widgets Documentation</a> for setup instructions.\n",
       "</p>\n",
       "<p>\n",
       "  If you're reading this message in another frontend (for example, a static\n",
       "  rendering on GitHub or <a href=\"https://nbviewer.jupyter.org/\">NBViewer</a>),\n",
       "  it may mean that your frontend doesn't currently support widgets.\n",
       "</p>\n"
      ],
      "text/plain": [
       "HBox(children=(IntProgress(value=0, max=5), HTML(value='')))"
      ]
     },
     "metadata": {},
     "output_type": "display_data"
    },
    {
     "name": "stdout",
     "output_type": "stream",
     "text": [
      "\n",
      "Mem. usage decreased to 14029.03 Mb (-36.1% reduction)\n"
     ]
    }
   ],
   "source": [
    "train = create_features_full(train)"
   ]
  },
  {
   "cell_type": "code",
   "execution_count": 11,
   "metadata": {},
   "outputs": [
    {
     "data": {
      "application/vnd.jupyter.widget-view+json": {
       "model_id": "a920e809bb504bb8a4da76b5ecf7e98c",
       "version_major": 2,
       "version_minor": 0
      },
      "text/html": [
       "<p>Failed to display Jupyter Widget of type <code>HBox</code>.</p>\n",
       "<p>\n",
       "  If you're reading this message in the Jupyter Notebook or JupyterLab Notebook, it may mean\n",
       "  that the widgets JavaScript is still loading. If this message persists, it\n",
       "  likely means that the widgets JavaScript library is either not installed or\n",
       "  not enabled. See the <a href=\"https://ipywidgets.readthedocs.io/en/stable/user_install.html\">Jupyter\n",
       "  Widgets Documentation</a> for setup instructions.\n",
       "</p>\n",
       "<p>\n",
       "  If you're reading this message in another frontend (for example, a static\n",
       "  rendering on GitHub or <a href=\"https://nbviewer.jupyter.org/\">NBViewer</a>),\n",
       "  it may mean that your frontend doesn't currently support widgets.\n",
       "</p>\n"
      ],
      "text/plain": [
       "HBox(children=(IntProgress(value=0, max=5), HTML(value='')))"
      ]
     },
     "metadata": {},
     "output_type": "display_data"
    },
    {
     "name": "stdout",
     "output_type": "stream",
     "text": [
      "\n",
      "Mem. usage decreased to 7535.15 Mb (-36.2% reduction)\n"
     ]
    }
   ],
   "source": [
    "test = create_features_full(test)"
   ]
  },
  {
   "cell_type": "code",
   "execution_count": 12,
   "metadata": {},
   "outputs": [],
   "source": [
    "train.to_csv('../cache/train2.csv', index=False)\n",
    "test.to_csv('../cache/test2.csv', index=False)"
   ]
  },
  {
   "cell_type": "code",
   "execution_count": 2,
   "metadata": {},
   "outputs": [],
   "source": [
    "train = pd.read_csv('../cache/train2.csv')\n",
    "test = pd.read_csv('../cache/test2.csv')"
   ]
  },
  {
   "cell_type": "code",
   "execution_count": 3,
   "metadata": {},
   "outputs": [],
   "source": [
    "for f in ['atom_index_0', 'atom_index_1', 'atom_1', 'type_0', 'type', 'atom_0', 'type_1']:\n",
    "#     if f in good_columns:\n",
    "    lbl = LabelEncoder()\n",
    "    lbl.fit(list(train[f].values) + list(test[f].values))\n",
    "    train[f] = lbl.transform(list(train[f].values))\n",
    "    test[f] = lbl.transform(list(test[f].values))"
   ]
  },
  {
   "cell_type": "code",
   "execution_count": 4,
   "metadata": {},
   "outputs": [
    {
     "name": "stdout",
     "output_type": "stream",
     "text": [
      "Mem. usage decreased to 13749.09 Mb (65.1% reduction)\n",
      "Mem. usage decreased to 7390.63 Mb (65.1% reduction)\n"
     ]
    }
   ],
   "source": [
    "train = reduce_mem_usage(train)\n",
    "test = reduce_mem_usage(test)"
   ]
  },
  {
   "cell_type": "code",
   "execution_count": 5,
   "metadata": {},
   "outputs": [],
   "source": [
    "good_columns = [\n",
    "'molecule_atom_index_0_dist_min',\n",
    "'molecule_atom_index_0_dist_max',\n",
    "'molecule_atom_index_1_dist_min',\n",
    "'molecule_atom_index_0_dist_mean',\n",
    "'molecule_atom_index_0_dist_std',\n",
    "'dist',\n",
    "'molecule_atom_index_1_dist_std',\n",
    "'molecule_atom_index_1_dist_max',\n",
    "'molecule_atom_index_1_dist_mean',\n",
    "'molecule_atom_index_0_dist_max_diff',\n",
    "'molecule_atom_index_0_dist_max_div',\n",
    "'molecule_atom_index_0_dist_std_diff',\n",
    "'molecule_atom_index_0_dist_std_div',\n",
    "'atom_0_couples_count',\n",
    "'molecule_atom_index_0_dist_min_div',\n",
    "'molecule_atom_index_1_dist_std_diff',\n",
    "'molecule_atom_index_0_dist_mean_div',\n",
    "'atom_1_couples_count',\n",
    "'molecule_atom_index_0_dist_mean_diff',\n",
    "'molecule_couples',\n",
    "'atom_index_1',\n",
    "'molecule_dist_mean',\n",
    "'molecule_distx_mean',\n",
    "'molecule_disty_mean',\n",
    "'molecule_distz_mean',\n",
    "'molecule_atom_index_1_dist_max_diff',\n",
    "'molecule_atom_index_0_y_1_std',\n",
    "'molecule_atom_index_1_dist_mean_diff',\n",
    "'molecule_atom_index_1_dist_std_div',\n",
    "'molecule_atom_index_1_dist_mean_div',\n",
    "'molecule_atom_index_1_dist_min_diff',\n",
    "'molecule_atom_index_1_dist_min_div',\n",
    "'molecule_atom_index_1_dist_max_div',\n",
    "'molecule_atom_index_0_z_1_std',\n",
    "'y_0',\n",
    "'molecule_type_dist_std_diff',\n",
    "'molecule_atom_1_dist_min_diff',\n",
    "'molecule_atom_index_0_x_1_std',\n",
    "'molecule_dist_min',\n",
    "'molecule_distx_min',\n",
    "'molecule_disty_min',\n",
    "'molecule_distz_min',\n",
    "'molecule_atom_index_0_dist_min_diff',\n",
    "'molecule_atom_index_0_y_1_mean_diff',\n",
    "'molecule_type_dist_min',\n",
    "'molecule_atom_1_dist_min_div',\n",
    "'atom_index_0',\n",
    "'molecule_dist_max',\n",
    "'molecule_distx_max',\n",
    "'molecule_disty_max',\n",
    "'molecule_distz_max',\n",
    "'molecule_atom_1_dist_std_diff',\n",
    "'molecule_type_dist_max',\n",
    "'molecule_atom_index_0_y_1_max_diff',\n",
    "'molecule_type_0_dist_std_diff',\n",
    "'molecule_type_dist_mean_diff',\n",
    "'molecule_atom_1_dist_mean',\n",
    "'molecule_atom_index_0_y_1_mean_div',\n",
    "'molecule_type_dist_mean_div',\n",
    "'type']"
   ]
  },
  {
   "cell_type": "code",
   "execution_count": 6,
   "metadata": {},
   "outputs": [],
   "source": [
    "# for f in ['atom_0', 'type_1']:\n",
    "# #     if f in good_columns:\n",
    "#     lbl = LabelEncoder()\n",
    "#     lbl.fit(list(X[f].values) + list(X_test[f].values))\n",
    "#     X[f] = lbl.transform(list(X[f].values))\n",
    "#     X_test[f] = lbl.transform(list(X_test[f].values))"
   ]
  },
  {
   "cell_type": "code",
   "execution_count": 7,
   "metadata": {},
   "outputs": [],
   "source": [
    "# X = train[good_columns].copy()\n",
    "# y = train['scalar_coupling_constant']\n",
    "# X_test = test[good_columns].copy()"
   ]
  },
  {
   "cell_type": "code",
   "execution_count": 8,
   "metadata": {},
   "outputs": [],
   "source": [
    "# X = train.copy()\n",
    "# y = train['scalar_coupling_constant']\n",
    "# del train\n",
    "\n",
    "# X_test = test.copy()\n",
    "# del test\n",
    "# del structures"
   ]
  },
  {
   "cell_type": "code",
   "execution_count": 9,
   "metadata": {},
   "outputs": [],
   "source": [
    "# X = X.drop(['id', 'molecule_name', 'scalar_coupling_constant'], axis=1)\n",
    "\n",
    "# X_test = X_test.drop(['id', 'molecule_name'], axis=1)"
   ]
  },
  {
   "cell_type": "code",
   "execution_count": 10,
   "metadata": {},
   "outputs": [],
   "source": [
    "X = train[good_columns].copy()\n",
    "y = train['scalar_coupling_constant']\n",
    "X_test = test[good_columns].copy()"
   ]
  },
  {
   "cell_type": "code",
   "execution_count": 11,
   "metadata": {},
   "outputs": [],
   "source": [
    "del train, test"
   ]
  },
  {
   "cell_type": "code",
   "execution_count": 12,
   "metadata": {},
   "outputs": [
    {
     "data": {
      "text/plain": [
       "60"
      ]
     },
     "execution_count": 12,
     "metadata": {},
     "output_type": "execute_result"
    }
   ],
   "source": [
    "import gc\n",
    "gc.collect()"
   ]
  },
  {
   "cell_type": "code",
   "execution_count": 13,
   "metadata": {},
   "outputs": [],
   "source": [
    "n_fold = 5\n",
    "folds = KFold(n_splits=n_fold, shuffle=True, random_state=11)"
   ]
  },
  {
   "cell_type": "code",
   "execution_count": 14,
   "metadata": {},
   "outputs": [
    {
     "name": "stdout",
     "output_type": "stream",
     "text": [
      "Fold 1 started at Sun Jun  9 04:31:41 2019\n",
      "Training until validation scores don't improve for 200 rounds.\n",
      "[500]\ttraining's l1: 1.11407\tvalid_1's l1: 1.15801\n",
      "[1000]\ttraining's l1: 0.989552\tvalid_1's l1: 1.06686\n",
      "[1500]\ttraining's l1: 0.911364\tvalid_1's l1: 1.01759\n",
      "[2000]\ttraining's l1: 0.852437\tvalid_1's l1: 0.983504\n",
      "[2500]\ttraining's l1: 0.805944\tvalid_1's l1: 0.960255\n",
      "[3000]\ttraining's l1: 0.766275\tvalid_1's l1: 0.941491\n",
      "[3500]\ttraining's l1: 0.73198\tvalid_1's l1: 0.926191\n",
      "[4000]\ttraining's l1: 0.701896\tvalid_1's l1: 0.91441\n",
      "[4500]\ttraining's l1: 0.674726\tvalid_1's l1: 0.904186\n",
      "[5000]\ttraining's l1: 0.650126\tvalid_1's l1: 0.895733\n",
      "Did not meet early stopping. Best iteration is:\n",
      "[5000]\ttraining's l1: 0.650126\tvalid_1's l1: 0.895733\n",
      "Fold 2 started at Sun Jun  9 04:49:18 2019\n",
      "Training until validation scores don't improve for 200 rounds.\n",
      "[500]\ttraining's l1: 1.11542\tvalid_1's l1: 1.16127\n",
      "[1000]\ttraining's l1: 0.988715\tvalid_1's l1: 1.06788\n",
      "[1500]\ttraining's l1: 0.910485\tvalid_1's l1: 1.01848\n",
      "[2000]\ttraining's l1: 0.852175\tvalid_1's l1: 0.985531\n",
      "[2500]\ttraining's l1: 0.805373\tvalid_1's l1: 0.961309\n",
      "[3000]\ttraining's l1: 0.766121\tvalid_1's l1: 0.943054\n",
      "[3500]\ttraining's l1: 0.732039\tvalid_1's l1: 0.928145\n",
      "[4000]\ttraining's l1: 0.701698\tvalid_1's l1: 0.915883\n",
      "[4500]\ttraining's l1: 0.674471\tvalid_1's l1: 0.9058\n",
      "[5000]\ttraining's l1: 0.650007\tvalid_1's l1: 0.897356\n",
      "Did not meet early stopping. Best iteration is:\n",
      "[5000]\ttraining's l1: 0.650007\tvalid_1's l1: 0.897356\n",
      "Fold 3 started at Sun Jun  9 05:06:50 2019\n",
      "Training until validation scores don't improve for 200 rounds.\n",
      "[500]\ttraining's l1: 1.11567\tvalid_1's l1: 1.16295\n",
      "[1000]\ttraining's l1: 0.987418\tvalid_1's l1: 1.06759\n",
      "[1500]\ttraining's l1: 0.909732\tvalid_1's l1: 1.01905\n",
      "[2000]\ttraining's l1: 0.850154\tvalid_1's l1: 0.984542\n",
      "[2500]\ttraining's l1: 0.803424\tvalid_1's l1: 0.960377\n",
      "[3000]\ttraining's l1: 0.76427\tvalid_1's l1: 0.942416\n",
      "[3500]\ttraining's l1: 0.730529\tvalid_1's l1: 0.928231\n",
      "[4000]\ttraining's l1: 0.70047\tvalid_1's l1: 0.916192\n",
      "[4500]\ttraining's l1: 0.673497\tvalid_1's l1: 0.905981\n",
      "[5000]\ttraining's l1: 0.649245\tvalid_1's l1: 0.897797\n",
      "Did not meet early stopping. Best iteration is:\n",
      "[5000]\ttraining's l1: 0.649245\tvalid_1's l1: 0.897797\n",
      "Fold 4 started at Sun Jun  9 05:24:23 2019\n",
      "Training until validation scores don't improve for 200 rounds.\n",
      "[500]\ttraining's l1: 1.11572\tvalid_1's l1: 1.16081\n",
      "[1000]\ttraining's l1: 0.989756\tvalid_1's l1: 1.06867\n",
      "[1500]\ttraining's l1: 0.910682\tvalid_1's l1: 1.01792\n",
      "[2000]\ttraining's l1: 0.852324\tvalid_1's l1: 0.984932\n",
      "[2500]\ttraining's l1: 0.806127\tvalid_1's l1: 0.961439\n",
      "[3000]\ttraining's l1: 0.766703\tvalid_1's l1: 0.942947\n",
      "[3500]\ttraining's l1: 0.731965\tvalid_1's l1: 0.927598\n",
      "[4000]\ttraining's l1: 0.701592\tvalid_1's l1: 0.915393\n",
      "[4500]\ttraining's l1: 0.674161\tvalid_1's l1: 0.904977\n",
      "[5000]\ttraining's l1: 0.649248\tvalid_1's l1: 0.896017\n",
      "Did not meet early stopping. Best iteration is:\n",
      "[5000]\ttraining's l1: 0.649248\tvalid_1's l1: 0.896017\n",
      "Fold 5 started at Sun Jun  9 05:43:39 2019\n",
      "Training until validation scores don't improve for 200 rounds.\n",
      "[500]\ttraining's l1: 1.11592\tvalid_1's l1: 1.16442\n",
      "[1000]\ttraining's l1: 0.989855\tvalid_1's l1: 1.07153\n",
      "[1500]\ttraining's l1: 0.911768\tvalid_1's l1: 1.021\n",
      "[2000]\ttraining's l1: 0.853117\tvalid_1's l1: 0.987769\n",
      "[2500]\ttraining's l1: 0.805668\tvalid_1's l1: 0.963209\n",
      "[3000]\ttraining's l1: 0.765855\tvalid_1's l1: 0.944528\n",
      "[3500]\ttraining's l1: 0.732332\tvalid_1's l1: 0.930388\n",
      "[4000]\ttraining's l1: 0.70189\tvalid_1's l1: 0.917679\n",
      "[4500]\ttraining's l1: 0.674578\tvalid_1's l1: 0.9072\n",
      "[5000]\ttraining's l1: 0.649742\tvalid_1's l1: 0.89833\n",
      "Did not meet early stopping. Best iteration is:\n",
      "[5000]\ttraining's l1: 0.649742\tvalid_1's l1: 0.89833\n",
      "CV mean score: -0.2538, std: 0.0017.\n"
     ]
    },
    {
     "data": {
      "image/png": "[encoded data removed]",
      "text/plain": [
       "<matplotlib.figure.Figure at 0x7f8c154c4dd8>"
      ]
     },
     "metadata": {},
     "output_type": "display_data"
    }
   ],
   "source": [
    "params = {'num_leaves': 128,\n",
    "          'min_child_samples': 79,\n",
    "          'objective': 'regression',\n",
    "          'max_depth': 9,\n",
    "          'learning_rate': 0.2,\n",
    "          \"boosting_type\": \"gbdt\",\n",
    "          \"subsample_freq\": 1,\n",
    "          \"subsample\": 0.9,\n",
    "          \"bagging_seed\": 11,\n",
    "          \"metric\": 'mae',\n",
    "          \"verbosity\": -1,\n",
    "          'reg_alpha': 0.1,\n",
    "          'reg_lambda': 0.3,\n",
    "          'colsample_bytree': 1.0\n",
    "         }\n",
    "result_dict_lgb = train_model_regression(X=X, X_test=X_test, y=y, params=params, folds=folds, model_type='lgb', eval_metric='group_mae', plot_feature_importance=True,\n",
    "                                                      verbose=500, early_stopping_rounds=200, n_estimators=5000)"
   ]
  },
  {
   "cell_type": "code",
   "execution_count": 18,
   "metadata": {},
   "outputs": [
    {
     "data": {
      "text/html": [
       "<div>\n",
       "<style scoped>\n",
       "    .dataframe tbody tr th:only-of-type {\n",
       "        vertical-align: middle;\n",
       "    }\n",
       "\n",
       "    .dataframe tbody tr th {\n",
       "        vertical-align: top;\n",
       "    }\n",
       "\n",
       "    .dataframe thead th {\n",
       "        text-align: right;\n",
       "    }\n",
       "</style>\n",
       "<table border=\"1\" class=\"dataframe\">\n",
       "  <thead>\n",
       "    <tr style=\"text-align: right;\">\n",
       "      <th></th>\n",
       "      <th>id</th>\n",
       "      <th>scalar_coupling_constant</th>\n",
       "    </tr>\n",
       "  </thead>\n",
       "  <tbody>\n",
       "    <tr>\n",
       "      <th>0</th>\n",
       "      <td>4658147</td>\n",
       "      <td>11.852834437443544</td>\n",
       "    </tr>\n",
       "    <tr>\n",
       "      <th>1</th>\n",
       "      <td>4658148</td>\n",
       "      <td>194.602924416023939</td>\n",
       "    </tr>\n",
       "    <tr>\n",
       "      <th>2</th>\n",
       "      <td>4658149</td>\n",
       "      <td>6.966904946625985</td>\n",
       "    </tr>\n",
       "    <tr>\n",
       "      <th>3</th>\n",
       "      <td>4658150</td>\n",
       "      <td>186.787339010735565</td>\n",
       "    </tr>\n",
       "    <tr>\n",
       "      <th>4</th>\n",
       "      <td>4658151</td>\n",
       "      <td>5.713474223083945</td>\n",
       "    </tr>\n",
       "  </tbody>\n",
       "</table>\n",
       "</div>"
      ],
      "text/plain": [
       "        id  scalar_coupling_constant\n",
       "0  4658147        11.852834437443544\n",
       "1  4658148       194.602924416023939\n",
       "2  4658149         6.966904946625985\n",
       "3  4658150       186.787339010735565\n",
       "4  4658151         5.713474223083945"
      ]
     },
     "execution_count": 18,
     "metadata": {},
     "output_type": "execute_result"
    }
   ],
   "source": [
    "sub['scalar_coupling_constant'] = result_dict_lgb['prediction']\n",
    "sub.to_csv('../submissions/sub3.csv', index=False)\n",
    "sub.head()"
   ]
  },
  {
   "cell_type": "code",
   "execution_count": 19,
   "metadata": {},
   "outputs": [
    {
     "name": "stdout",
     "output_type": "stream",
     "text": [
      "100%|██████████████████████████████████████| 64.0M/64.0M [00:15<00:00, 4.37MB/s]\n",
      "Successfully submitted to Predicting Molecular PropertiesCPU times: user 346 ms, sys: 555 ms, total: 900 ms\n",
      "Wall time: 19.7 s\n"
     ]
    }
   ],
   "source": [
    "%%time\n",
    "!kaggle competitions submit -c champs-scalar-coupling -f ../submissions/sub3.csv -m \"\""
   ]
  },
  {
   "cell_type": "code",
   "execution_count": 20,
   "metadata": {},
   "outputs": [
    {
     "name": "stdout",
     "output_type": "stream",
     "text": [
      "fileName   date                 description  status    publicScore  privateScore  \r\n",
      "---------  -------------------  -----------  --------  -----------  ------------  \r\n",
      "sub3.csv   2019-06-09 00:57:08  None         complete  -0.376       None          \r\n",
      "sub2b.csv  2019-06-08 17:53:30  None         complete  -0.690       None          \r\n",
      "sub2a.csv  2019-06-08 14:09:52  None         complete  -0.642       None          \r\n",
      "sub2.csv   2019-06-08 13:03:54  None         complete  -0.400       None          \r\n",
      "sub1.csv   2019-06-04 16:51:51  None         complete  0.299        None          \r\n"
     ]
    }
   ],
   "source": [
    "from time import sleep\n",
    "sleep(40)\n",
    "!kaggle competitions submissions -c champs-scalar-coupling"
   ]
  },
  {
   "cell_type": "code",
   "execution_count": null,
   "metadata": {},
   "outputs": [],
   "source": []
  }
 ],
 "metadata": {
  "kernelspec": {
   "display_name": "pmp",
   "language": "python",
   "name": "pmp"
  },
  "language_info": {
   "codemirror_mode": {
    "name": "ipython",
    "version": 3
   },
   "file_extension": ".py",
   "mimetype": "text/x-python",
   "name": "python",
   "nbconvert_exporter": "python",
   "pygments_lexer": "ipython3",
   "version": "3.6.8"
  }
 },
 "nbformat": 4,
 "nbformat_minor": 2
}
